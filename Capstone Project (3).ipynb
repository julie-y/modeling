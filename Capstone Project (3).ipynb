{
 "cells": [
  {
   "cell_type": "markdown",
   "metadata": {},
   "source": [
    "This notebook is used for Capstone Project"
   ]
  },
  {
   "cell_type": "code",
   "execution_count": 1,
   "metadata": {},
   "outputs": [
    {
     "name": "stdout",
     "output_type": "stream",
     "text": [
      "Hello Capstone Project Course!\n"
     ]
    }
   ],
   "source": [
    "print('Hello Capstone Project Course!')"
   ]
  },
  {
   "cell_type": "code",
   "execution_count": null,
   "metadata": {},
   "outputs": [],
   "source": [
    "!conda install -c conda-forge geopy --yes \n",
    "!conda install -c conda-forge folium=0.5.0 --yes"
   ]
  },
  {
   "cell_type": "code",
   "execution_count": 1,
   "metadata": {},
   "outputs": [
    {
     "name": "stdout",
     "output_type": "stream",
     "text": [
      "Folium installed\n",
      "Libraries imported.\n"
     ]
    }
   ],
   "source": [
    "import requests \n",
    "import pandas as pd \n",
    "import numpy as np \n",
    "import random \n",
    "\n",
    "from geopy.geocoders import Nominatim \n",
    "from IPython.display import Image \n",
    "from IPython.core.display import HTML \n",
    "    \n",
    "from pandas.io.json import json_normalize\n",
    "import folium \n",
    "\n",
    "print('Folium installed')\n",
    "print('Libraries imported.')"
   ]
  },
  {
   "cell_type": "code",
   "execution_count": 2,
   "metadata": {},
   "outputs": [],
   "source": [
    "CLIENT_ID = '0W1MHKERIP4CAUL5LAVS4XORC2C2D51SB2TGJAHZ44BVICVD' \n",
    "CLIENT_SECRET = 'E1HWUVNWVVP4DXCT02QTFF0YNNIAA1M2SWU3QR5JNC1JEOE1'\n",
    "VERSION = '20180604'\n",
    "LIMIT=50"
   ]
  },
  {
   "cell_type": "code",
   "execution_count": 3,
   "metadata": {},
   "outputs": [
    {
     "name": "stdin",
     "output_type": "stream",
     "text": [
      "please type in your address: 1235 mission st, San Francisco\n"
     ]
    },
    {
     "name": "stdout",
     "output_type": "stream",
     "text": [
      "37.7724921 -122.4188648\n"
     ]
    },
    {
     "name": "stdin",
     "output_type": "stream",
     "text": [
      "What type of restaurant are you intereted in? : Japanese\n"
     ]
    },
    {
     "name": "stdout",
     "output_type": "stream",
     "text": [
      "Japanese .... OK!\n"
     ]
    }
   ],
   "source": [
    "address = input('please type in your address:').strip()\n",
    "\n",
    "geolocator = Nominatim(user_agent=\"foursquare_agent\")\n",
    "location = geolocator.geocode(address)\n",
    "latitude = location.latitude\n",
    "longitude = location.longitude\n",
    "print(latitude, longitude)\n",
    "search_query = input('What type of restaurant are you intereted in? :').strip()\n",
    "radius =2000  #meters\n",
    "print(search_query + ' .... OK!')\n",
    "url = 'https://api.foursquare.com/v2/venues/search?client_id={}&client_secret={}&ll={},{}&v={}&query={}&radius={}&limit={}'.format(CLIENT_ID, CLIENT_SECRET, latitude, longitude, VERSION, search_query, radius, LIMIT)\n"
   ]
  },
  {
   "cell_type": "markdown",
   "metadata": {},
   "source": [
    "localize restaurants of interest near the desired location and create a dataframe of the search result"
   ]
  },
  {
   "cell_type": "code",
   "execution_count": 7,
   "metadata": {},
   "outputs": [
    {
     "data": {
      "text/html": [
       "<div>\n",
       "<style scoped>\n",
       "    .dataframe tbody tr th:only-of-type {\n",
       "        vertical-align: middle;\n",
       "    }\n",
       "\n",
       "    .dataframe tbody tr th {\n",
       "        vertical-align: top;\n",
       "    }\n",
       "\n",
       "    .dataframe thead th {\n",
       "        text-align: right;\n",
       "    }\n",
       "</style>\n",
       "<table border=\"1\" class=\"dataframe\">\n",
       "  <thead>\n",
       "    <tr style=\"text-align: right;\">\n",
       "      <th></th>\n",
       "      <th>name</th>\n",
       "      <th>categories</th>\n",
       "      <th>address</th>\n",
       "      <th>distance</th>\n",
       "      <th>lat</th>\n",
       "      <th>lng</th>\n",
       "      <th>id</th>\n",
       "    </tr>\n",
       "  </thead>\n",
       "  <tbody>\n",
       "    <tr>\n",
       "      <th>0</th>\n",
       "      <td>Ryoko's Japanese Restaurant &amp; Bar</td>\n",
       "      <td>Sushi Restaurant</td>\n",
       "      <td>619 Taylor St</td>\n",
       "      <td>1851</td>\n",
       "      <td>37.788183</td>\n",
       "      <td>-122.411882</td>\n",
       "      <td>433c8000f964a52043281fe3</td>\n",
       "    </tr>\n",
       "    <tr>\n",
       "      <th>1</th>\n",
       "      <td>Cha-Ya Vegetarian Japanese Restaurant</td>\n",
       "      <td>Vegetarian / Vegan Restaurant</td>\n",
       "      <td>762 Valencia St</td>\n",
       "      <td>1324</td>\n",
       "      <td>37.760786</td>\n",
       "      <td>-122.421557</td>\n",
       "      <td>44ccee85f964a52016361fe3</td>\n",
       "    </tr>\n",
       "    <tr>\n",
       "      <th>2</th>\n",
       "      <td>Muracci's Japanese Curry &amp; Grill</td>\n",
       "      <td>Japanese Curry Restaurant</td>\n",
       "      <td>307 Kearny St</td>\n",
       "      <td>2427</td>\n",
       "      <td>37.791000</td>\n",
       "      <td>-122.404282</td>\n",
       "      <td>49ba1813f964a52059531fe3</td>\n",
       "    </tr>\n",
       "    <tr>\n",
       "      <th>3</th>\n",
       "      <td>Japanese YWCA Building / Nihonmachi Little Fri...</td>\n",
       "      <td>Nursery School</td>\n",
       "      <td>1700 Sutter St</td>\n",
       "      <td>1918</td>\n",
       "      <td>37.787017</td>\n",
       "      <td>-122.430609</td>\n",
       "      <td>4d2ca3774ab78eec71103326</td>\n",
       "    </tr>\n",
       "    <tr>\n",
       "      <th>4</th>\n",
       "      <td>Miyabi Japanese Restaurant</td>\n",
       "      <td>Sushi Restaurant</td>\n",
       "      <td>253 Church St</td>\n",
       "      <td>1085</td>\n",
       "      <td>37.766829</td>\n",
       "      <td>-122.428903</td>\n",
       "      <td>43a8315cf964a520742c1fe3</td>\n",
       "    </tr>\n",
       "  </tbody>\n",
       "</table>\n",
       "</div>"
      ],
      "text/plain": [
       "                                                name  \\\n",
       "0                  Ryoko's Japanese Restaurant & Bar   \n",
       "1              Cha-Ya Vegetarian Japanese Restaurant   \n",
       "2                   Muracci's Japanese Curry & Grill   \n",
       "3  Japanese YWCA Building / Nihonmachi Little Fri...   \n",
       "4                         Miyabi Japanese Restaurant   \n",
       "\n",
       "                      categories          address  distance        lat  \\\n",
       "0               Sushi Restaurant    619 Taylor St      1851  37.788183   \n",
       "1  Vegetarian / Vegan Restaurant  762 Valencia St      1324  37.760786   \n",
       "2      Japanese Curry Restaurant    307 Kearny St      2427  37.791000   \n",
       "3                 Nursery School   1700 Sutter St      1918  37.787017   \n",
       "4               Sushi Restaurant    253 Church St      1085  37.766829   \n",
       "\n",
       "          lng                        id  \n",
       "0 -122.411882  433c8000f964a52043281fe3  \n",
       "1 -122.421557  44ccee85f964a52016361fe3  \n",
       "2 -122.404282  49ba1813f964a52059531fe3  \n",
       "3 -122.430609  4d2ca3774ab78eec71103326  \n",
       "4 -122.428903  43a8315cf964a520742c1fe3  "
      ]
     },
     "execution_count": 7,
     "metadata": {},
     "output_type": "execute_result"
    }
   ],
   "source": [
    "results = requests.get(url).json()\n",
    "# assign relevant part of JSON to venues\n",
    "venues = results['response']['venues']\n",
    "\n",
    "# tranform venues into a dataframe\n",
    "dataframe = json_normalize(venues)\n",
    "\n",
    "# Define information and filter the dataframe: keep only columns that include venue name, and anything that is associated with location\n",
    "filtered_columns = ['name', 'categories'] + [col for col in dataframe.columns if col.startswith('location.')] + ['id']\n",
    "dataframe_filtered = dataframe.loc[:, filtered_columns]\n",
    "\n",
    "# function that extracts the category of the venue\n",
    "def get_category_type(row):\n",
    "    try:\n",
    "        categories_list = row['categories']\n",
    "    except:\n",
    "        categories_list = row['venue.categories']\n",
    "        \n",
    "    if len(categories_list) == 0:\n",
    "        return None\n",
    "    else:\n",
    "        return categories_list[0]['name']\n",
    "\n",
    "# filter the category for each row\n",
    "dataframe_filtered['categories'] = dataframe_filtered.apply(get_category_type, axis=1)\n",
    "\n",
    "# clean column names by keeping only last term\n",
    "dataframe_filtered.columns = [column.split('.')[-1] for column in dataframe_filtered.columns]\n",
    "\n",
    "dfc=dataframe_filtered[['name','categories','address','distance','lat','lng','id']]\n",
    "dfc.head()"
   ]
  },
  {
   "cell_type": "markdown",
   "metadata": {},
   "source": [
    "import csv form with SF health inspection restaurant_scores (file downloaded from Kaggle)"
   ]
  },
  {
   "cell_type": "code",
   "execution_count": 8,
   "metadata": {},
   "outputs": [
    {
     "data": {
      "text/html": [
       "<div>\n",
       "<style scoped>\n",
       "    .dataframe tbody tr th:only-of-type {\n",
       "        vertical-align: middle;\n",
       "    }\n",
       "\n",
       "    .dataframe tbody tr th {\n",
       "        vertical-align: top;\n",
       "    }\n",
       "\n",
       "    .dataframe thead th {\n",
       "        text-align: right;\n",
       "    }\n",
       "</style>\n",
       "<table border=\"1\" class=\"dataframe\">\n",
       "  <thead>\n",
       "    <tr style=\"text-align: right;\">\n",
       "      <th></th>\n",
       "      <th>business_id</th>\n",
       "      <th>business_name</th>\n",
       "      <th>business_address</th>\n",
       "      <th>business_city</th>\n",
       "      <th>business_state</th>\n",
       "      <th>business_postal_code</th>\n",
       "      <th>business_latitude</th>\n",
       "      <th>business_longitude</th>\n",
       "      <th>business_location</th>\n",
       "      <th>business_phone_number</th>\n",
       "      <th>inspection_id</th>\n",
       "      <th>inspection_date</th>\n",
       "      <th>inspection_score</th>\n",
       "      <th>inspection_type</th>\n",
       "      <th>violation_id</th>\n",
       "      <th>violation_description</th>\n",
       "      <th>risk_category</th>\n",
       "    </tr>\n",
       "  </thead>\n",
       "  <tbody>\n",
       "    <tr>\n",
       "      <th>0</th>\n",
       "      <td>835</td>\n",
       "      <td>Kam Po Kitchen</td>\n",
       "      <td>801 Broadway St</td>\n",
       "      <td>San Francisco</td>\n",
       "      <td>CA</td>\n",
       "      <td>94133</td>\n",
       "      <td>37.797223</td>\n",
       "      <td>-122.410513</td>\n",
       "      <td>(37.797223, -122.410513)</td>\n",
       "      <td>NaN</td>\n",
       "      <td>835_20180917</td>\n",
       "      <td>09/17/2018 12:00:00 AM</td>\n",
       "      <td>88.0</td>\n",
       "      <td>Routine - Unscheduled</td>\n",
       "      <td>835_20180917_103154</td>\n",
       "      <td>Unclean or degraded floors walls or ceilings</td>\n",
       "      <td>Low Risk</td>\n",
       "    </tr>\n",
       "    <tr>\n",
       "      <th>1</th>\n",
       "      <td>67448</td>\n",
       "      <td>Soo Fong Restaurant</td>\n",
       "      <td>3801 03rd St 370</td>\n",
       "      <td>San Francisco</td>\n",
       "      <td>CA</td>\n",
       "      <td>94124</td>\n",
       "      <td>37.741829</td>\n",
       "      <td>-122.388098</td>\n",
       "      <td>(37.741829, -122.388098)</td>\n",
       "      <td>NaN</td>\n",
       "      <td>67448_20180507</td>\n",
       "      <td>05/07/2018 12:00:00 AM</td>\n",
       "      <td>92.0</td>\n",
       "      <td>Routine - Unscheduled</td>\n",
       "      <td>67448_20180507_103149</td>\n",
       "      <td>Wiping cloths not clean or properly stored or ...</td>\n",
       "      <td>Low Risk</td>\n",
       "    </tr>\n",
       "    <tr>\n",
       "      <th>2</th>\n",
       "      <td>1757</td>\n",
       "      <td>Dar Bar Pakistani/Indian Cusine</td>\n",
       "      <td>1412 Polk St</td>\n",
       "      <td>San Francisco</td>\n",
       "      <td>CA</td>\n",
       "      <td>94109</td>\n",
       "      <td>37.789784</td>\n",
       "      <td>-122.420455</td>\n",
       "      <td>(37.789784, -122.420455)</td>\n",
       "      <td>NaN</td>\n",
       "      <td>1757_20170928</td>\n",
       "      <td>09/28/2017 12:00:00 AM</td>\n",
       "      <td>86.0</td>\n",
       "      <td>Routine - Unscheduled</td>\n",
       "      <td>1757_20170928_103131</td>\n",
       "      <td>Moderate risk vermin infestation</td>\n",
       "      <td>Moderate Risk</td>\n",
       "    </tr>\n",
       "    <tr>\n",
       "      <th>3</th>\n",
       "      <td>93022</td>\n",
       "      <td>Wise Sons Delicatessen</td>\n",
       "      <td>537 Octavia St</td>\n",
       "      <td>San Francisco</td>\n",
       "      <td>CA</td>\n",
       "      <td>94102</td>\n",
       "      <td>NaN</td>\n",
       "      <td>NaN</td>\n",
       "      <td>NaN</td>\n",
       "      <td>NaN</td>\n",
       "      <td>93022_20180907</td>\n",
       "      <td>09/07/2018 12:00:00 AM</td>\n",
       "      <td>92.0</td>\n",
       "      <td>Routine - Unscheduled</td>\n",
       "      <td>93022_20180907_103119</td>\n",
       "      <td>Inadequate and inaccessible handwashing facili...</td>\n",
       "      <td>Moderate Risk</td>\n",
       "    </tr>\n",
       "    <tr>\n",
       "      <th>4</th>\n",
       "      <td>4864</td>\n",
       "      <td>DRAGON CITY BAKERY &amp; CAFE</td>\n",
       "      <td>2367 MISSION St</td>\n",
       "      <td>San Francisco</td>\n",
       "      <td>CA</td>\n",
       "      <td>94110</td>\n",
       "      <td>37.759174</td>\n",
       "      <td>-122.419066</td>\n",
       "      <td>(37.759174, -122.419066)</td>\n",
       "      <td>1.415583e+10</td>\n",
       "      <td>4864_20161206</td>\n",
       "      <td>12/06/2016 12:00:00 AM</td>\n",
       "      <td>84.0</td>\n",
       "      <td>Routine - Unscheduled</td>\n",
       "      <td>4864_20161206_103157</td>\n",
       "      <td>Food safety certificate or food handler card n...</td>\n",
       "      <td>Low Risk</td>\n",
       "    </tr>\n",
       "  </tbody>\n",
       "</table>\n",
       "</div>"
      ],
      "text/plain": [
       "   business_id                    business_name  business_address  \\\n",
       "0          835                   Kam Po Kitchen   801 Broadway St   \n",
       "1        67448              Soo Fong Restaurant  3801 03rd St 370   \n",
       "2         1757  Dar Bar Pakistani/Indian Cusine      1412 Polk St   \n",
       "3        93022           Wise Sons Delicatessen    537 Octavia St   \n",
       "4         4864        DRAGON CITY BAKERY & CAFE   2367 MISSION St   \n",
       "\n",
       "   business_city business_state business_postal_code  business_latitude  \\\n",
       "0  San Francisco             CA                94133          37.797223   \n",
       "1  San Francisco             CA                94124          37.741829   \n",
       "2  San Francisco             CA                94109          37.789784   \n",
       "3  San Francisco             CA                94102                NaN   \n",
       "4  San Francisco             CA                94110          37.759174   \n",
       "\n",
       "   business_longitude         business_location  business_phone_number  \\\n",
       "0         -122.410513  (37.797223, -122.410513)                    NaN   \n",
       "1         -122.388098  (37.741829, -122.388098)                    NaN   \n",
       "2         -122.420455  (37.789784, -122.420455)                    NaN   \n",
       "3                 NaN                       NaN                    NaN   \n",
       "4         -122.419066  (37.759174, -122.419066)           1.415583e+10   \n",
       "\n",
       "    inspection_id         inspection_date  inspection_score  \\\n",
       "0    835_20180917  09/17/2018 12:00:00 AM              88.0   \n",
       "1  67448_20180507  05/07/2018 12:00:00 AM              92.0   \n",
       "2   1757_20170928  09/28/2017 12:00:00 AM              86.0   \n",
       "3  93022_20180907  09/07/2018 12:00:00 AM              92.0   \n",
       "4   4864_20161206  12/06/2016 12:00:00 AM              84.0   \n",
       "\n",
       "         inspection_type           violation_id  \\\n",
       "0  Routine - Unscheduled    835_20180917_103154   \n",
       "1  Routine - Unscheduled  67448_20180507_103149   \n",
       "2  Routine - Unscheduled   1757_20170928_103131   \n",
       "3  Routine - Unscheduled  93022_20180907_103119   \n",
       "4  Routine - Unscheduled   4864_20161206_103157   \n",
       "\n",
       "                               violation_description  risk_category  \n",
       "0       Unclean or degraded floors walls or ceilings       Low Risk  \n",
       "1  Wiping cloths not clean or properly stored or ...       Low Risk  \n",
       "2                   Moderate risk vermin infestation  Moderate Risk  \n",
       "3  Inadequate and inaccessible handwashing facili...  Moderate Risk  \n",
       "4  Food safety certificate or food handler card n...       Low Risk  "
      ]
     },
     "execution_count": 8,
     "metadata": {},
     "output_type": "execute_result"
    }
   ],
   "source": [
    "dfs=pd.read_csv('Restaurant_Scores_-_LIVES_Standard.csv')\n",
    "dfs.head()"
   ]
  },
  {
   "cell_type": "markdown",
   "metadata": {},
   "source": [
    "Each restaurant may have different scores from different inspections, here I'm getting the average score and group by the restaurant"
   ]
  },
  {
   "cell_type": "code",
   "execution_count": 10,
   "metadata": {},
   "outputs": [],
   "source": [
    "dfs.rename(columns={'business_name': 'name', 'business_address': 'address'}, inplace=True)\n",
    "dfsc=dfs[['name','inspection_score']]\n",
    "dfscg=dfsc.groupby(dfs['name']).mean().round()"
   ]
  },
  {
   "cell_type": "markdown",
   "metadata": {},
   "source": [
    "Join two forms together, toghether with ratings for each specific restaurant"
   ]
  },
  {
   "cell_type": "code",
   "execution_count": 11,
   "metadata": {},
   "outputs": [
    {
     "data": {
      "text/html": [
       "<div>\n",
       "<style scoped>\n",
       "    .dataframe tbody tr th:only-of-type {\n",
       "        vertical-align: middle;\n",
       "    }\n",
       "\n",
       "    .dataframe tbody tr th {\n",
       "        vertical-align: top;\n",
       "    }\n",
       "\n",
       "    .dataframe thead th {\n",
       "        text-align: right;\n",
       "    }\n",
       "</style>\n",
       "<table border=\"1\" class=\"dataframe\">\n",
       "  <thead>\n",
       "    <tr style=\"text-align: right;\">\n",
       "      <th></th>\n",
       "      <th>name</th>\n",
       "      <th>categories</th>\n",
       "      <th>address</th>\n",
       "      <th>distance</th>\n",
       "      <th>lat</th>\n",
       "      <th>lng</th>\n",
       "      <th>id</th>\n",
       "      <th>inspection_score</th>\n",
       "      <th>rating</th>\n",
       "    </tr>\n",
       "  </thead>\n",
       "  <tbody>\n",
       "    <tr>\n",
       "      <th>0</th>\n",
       "      <td>Japanese House</td>\n",
       "      <td>Japanese Restaurant</td>\n",
       "      <td>480 6th St</td>\n",
       "      <td>1457</td>\n",
       "      <td>37.776341</td>\n",
       "      <td>-122.403028</td>\n",
       "      <td>5a3adef8ca18ea1428d66942</td>\n",
       "      <td>82.0</td>\n",
       "      <td>5.7</td>\n",
       "    </tr>\n",
       "    <tr>\n",
       "      <th>1</th>\n",
       "      <td>An Japanese Restaurant</td>\n",
       "      <td>Sushi Restaurant</td>\n",
       "      <td>22 Peace Plz #510</td>\n",
       "      <td>1663</td>\n",
       "      <td>37.785029</td>\n",
       "      <td>-122.429155</td>\n",
       "      <td>563ba07ccd10e452f21ab439</td>\n",
       "      <td>98.0</td>\n",
       "      <td>7.9</td>\n",
       "    </tr>\n",
       "    <tr>\n",
       "      <th>2</th>\n",
       "      <td>Akira Japanese Restaurant</td>\n",
       "      <td>Restaurant</td>\n",
       "      <td>1634 Bush St</td>\n",
       "      <td>1813</td>\n",
       "      <td>37.788234</td>\n",
       "      <td>-122.424170</td>\n",
       "      <td>585cab80bbec66033bb4b92f</td>\n",
       "      <td>88.0</td>\n",
       "      <td>7.9</td>\n",
       "    </tr>\n",
       "    <tr>\n",
       "      <th>3</th>\n",
       "      <td>Rock Japanese Cuisine</td>\n",
       "      <td>Japanese Restaurant</td>\n",
       "      <td>Pine St</td>\n",
       "      <td>2415</td>\n",
       "      <td>37.791562</td>\n",
       "      <td>-122.405772</td>\n",
       "      <td>57a16052498ef2fd3cadd5a3</td>\n",
       "      <td>85.0</td>\n",
       "      <td>5.7</td>\n",
       "    </tr>\n",
       "    <tr>\n",
       "      <th>4</th>\n",
       "      <td>Niji Japanese Grille</td>\n",
       "      <td>Noodle House</td>\n",
       "      <td>50 Post St</td>\n",
       "      <td>2348</td>\n",
       "      <td>37.789393</td>\n",
       "      <td>-122.402882</td>\n",
       "      <td>4a0260bbf964a5204b711fe3</td>\n",
       "      <td>86.0</td>\n",
       "      <td>5.1</td>\n",
       "    </tr>\n",
       "  </tbody>\n",
       "</table>\n",
       "</div>"
      ],
      "text/plain": [
       "                        name           categories            address  \\\n",
       "0             Japanese House  Japanese Restaurant         480 6th St   \n",
       "1     An Japanese Restaurant     Sushi Restaurant  22 Peace Plz #510   \n",
       "2  Akira Japanese Restaurant           Restaurant       1634 Bush St   \n",
       "3      Rock Japanese Cuisine  Japanese Restaurant            Pine St   \n",
       "4       Niji Japanese Grille         Noodle House         50 Post St   \n",
       "\n",
       "   distance        lat         lng                        id  \\\n",
       "0      1457  37.776341 -122.403028  5a3adef8ca18ea1428d66942   \n",
       "1      1663  37.785029 -122.429155  563ba07ccd10e452f21ab439   \n",
       "2      1813  37.788234 -122.424170  585cab80bbec66033bb4b92f   \n",
       "3      2415  37.791562 -122.405772  57a16052498ef2fd3cadd5a3   \n",
       "4      2348  37.789393 -122.402882  4a0260bbf964a5204b711fe3   \n",
       "\n",
       "   inspection_score  rating  \n",
       "0              82.0     5.7  \n",
       "1              98.0     7.9  \n",
       "2              88.0     7.9  \n",
       "3              85.0     5.7  \n",
       "4              86.0     5.1  "
      ]
     },
     "execution_count": 11,
     "metadata": {},
     "output_type": "execute_result"
    }
   ],
   "source": [
    "dfj = pd.merge(dfc, dfscg, on='name', how='inner')\n",
    "\n",
    "dfr=pd.DataFrame([])\n",
    "for i,val in enumerate(dfj.name):\n",
    "    target=val\n",
    "    rownum=dataframe_filtered.index[dataframe_filtered.name==target].tolist()\n",
    "    venue_id=dataframe_filtered.iloc[rownum[0],15]\n",
    "    url = 'https://api.foursquare.com/v2/venues/{}?client_id={}&client_secret={}&v={}'.format(venue_id, CLIENT_ID, CLIENT_SECRET, VERSION)\n",
    "    result = requests.get(url).json()\n",
    "    result['response']['venue']\n",
    "    dfr=dfr.append({'name':val, 'rating':result['response']['venue']['rating']},ignore_index=True)\n",
    "dfj2 = pd.merge(dfj, dfr, on='name', how='inner')\n",
    "dfj2"
   ]
  },
  {
   "cell_type": "markdown",
   "metadata": {},
   "source": [
    "Visualize the result on a map"
   ]
  },
  {
   "cell_type": "code",
   "execution_count": 12,
   "metadata": {},
   "outputs": [
    {
     "data": {
      "text/html": [
       "<div style=\"width:100%;\"><div style=\"position:relative;width:100%;height:0;padding-bottom:60%;\"><iframe src=\"data:text/html;charset=utf-8;base64,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\" style=\"position:absolute;width:100%;height:100%;left:0;top:0;border:none !important;\" allowfullscreen webkitallowfullscreen mozallowfullscreen></iframe></div></div>"
      ],
      "text/plain": [
       "<folium.folium.Map at 0x7f040631ca90>"
      ]
     },
     "metadata": {},
     "output_type": "display_data"
    }
   ],
   "source": [
    "restaurant_map = folium.Map(location=[latitude, longitude], zoom_start=14) # generate map centred around the current location\n",
    "\n",
    "# add a red circle marker to represent the current location\n",
    "folium.features.CircleMarker(\n",
    "    [latitude, longitude],\n",
    "    radius=10,\n",
    "    color='red',\n",
    "    popup='Your location',\n",
    "    fill = True,\n",
    "    fill_color = 'yellow',\n",
    "    fill_opacity = 0.6\n",
    ").add_to(restaurant_map)\n",
    "\n",
    "# add the parkinglots as blue circle markers\n",
    "for lat, lng, name in zip(dfj2.lat, dfj2.lng,dfj2.name):\n",
    "    popup=folium.Popup(name,parse_html=True)\n",
    "    folium.features.CircleMarker(\n",
    "        [lat, lng],\n",
    "        radius=5,\n",
    "        color='purple',\n",
    "        popup=popup,\n",
    "        fill = True,\n",
    "        fill_color='puple',\n",
    "        fill_opacity=0.6\n",
    "    ).add_to(restaurant_map)\n",
    "\n",
    "# display map\n",
    "display(restaurant_map)"
   ]
  },
  {
   "cell_type": "markdown",
   "metadata": {},
   "source": [
    "After selecting a restaurant,  we can explore the parking options"
   ]
  },
  {
   "cell_type": "code",
   "execution_count": 13,
   "metadata": {},
   "outputs": [
    {
     "name": "stdin",
     "output_type": "stream",
     "text": [
      "Please select a restaurant from the list: An Japanese Restaurant\n"
     ]
    },
    {
     "name": "stdout",
     "output_type": "stream",
     "text": [
      "37.785028705277405 -122.42915486228173\n",
      "Parking .... OK!\n"
     ]
    },
    {
     "data": {
      "text/plain": [
       "'https://api.foursquare.com/v2/venues/search?client_id=0W1MHKERIP4CAUL5LAVS4XORC2C2D51SB2TGJAHZ44BVICVD&client_secret=E1HWUVNWVVP4DXCT02QTFF0YNNIAA1M2SWU3QR5JNC1JEOE1&ll=37.785028705277405,-122.42915486228173&v=20180604&query=Parking&radius=1000&limit=50'"
      ]
     },
     "execution_count": 13,
     "metadata": {},
     "output_type": "execute_result"
    }
   ],
   "source": [
    "#Locate the restaurant of choice\n",
    "selection= input('Please select a restaurant from the list:').strip()\n",
    "row2=dfj2.index[dfj2.name==selection].tolist()\n",
    "venue_lat=dfj2.iloc[row2[0],4]\n",
    "venue_lng=dfj2.iloc[row2[0],5]\n",
    "\n",
    "#find parking lot close to the restaurant\n",
    "latitude = venue_lat\n",
    "longitude = venue_lng\n",
    "print(latitude, longitude)\n",
    "search_query = 'Parking'\n",
    "radius =1000  #meters\n",
    "print(search_query + ' .... OK!')\n",
    "url = 'https://api.foursquare.com/v2/venues/search?client_id={}&client_secret={}&ll={},{}&v={}&query={}&radius={}&limit={}'.format(CLIENT_ID, CLIENT_SECRET, latitude, longitude, VERSION, search_query, radius, LIMIT)\n",
    "url"
   ]
  },
  {
   "cell_type": "code",
   "execution_count": 14,
   "metadata": {},
   "outputs": [
    {
     "data": {
      "text/html": [
       "<div>\n",
       "<style scoped>\n",
       "    .dataframe tbody tr th:only-of-type {\n",
       "        vertical-align: middle;\n",
       "    }\n",
       "\n",
       "    .dataframe tbody tr th {\n",
       "        vertical-align: top;\n",
       "    }\n",
       "\n",
       "    .dataframe thead th {\n",
       "        text-align: right;\n",
       "    }\n",
       "</style>\n",
       "<table border=\"1\" class=\"dataframe\">\n",
       "  <thead>\n",
       "    <tr style=\"text-align: right;\">\n",
       "      <th></th>\n",
       "      <th>name</th>\n",
       "      <th>categories</th>\n",
       "      <th>address</th>\n",
       "      <th>distance</th>\n",
       "      <th>lat</th>\n",
       "      <th>lng</th>\n",
       "      <th>id</th>\n",
       "    </tr>\n",
       "  </thead>\n",
       "  <tbody>\n",
       "    <tr>\n",
       "      <th>2</th>\n",
       "      <td>Japantown Parking Garage</td>\n",
       "      <td>Parking</td>\n",
       "      <td>NaN</td>\n",
       "      <td>91</td>\n",
       "      <td>37.785253</td>\n",
       "      <td>-122.430154</td>\n",
       "      <td>4de2cfe3fa7651589f08bc2d</td>\n",
       "    </tr>\n",
       "    <tr>\n",
       "      <th>7</th>\n",
       "      <td>B840 Japan Center Parking Lot</td>\n",
       "      <td>None</td>\n",
       "      <td>NaN</td>\n",
       "      <td>121</td>\n",
       "      <td>37.784763</td>\n",
       "      <td>-122.430492</td>\n",
       "      <td>5160ccb1e4b0ad59dab36b31</td>\n",
       "    </tr>\n",
       "    <tr>\n",
       "      <th>8</th>\n",
       "      <td>Webster parking</td>\n",
       "      <td>Parking</td>\n",
       "      <td>1489 Webster St</td>\n",
       "      <td>249</td>\n",
       "      <td>37.784351</td>\n",
       "      <td>-122.431858</td>\n",
       "      <td>50c600b5e4b0e9bc08e4309f</td>\n",
       "    </tr>\n",
       "    <tr>\n",
       "      <th>11</th>\n",
       "      <td>Fillmore Center Public Parking Garage</td>\n",
       "      <td>Parking</td>\n",
       "      <td>1345 Fillmore St</td>\n",
       "      <td>433</td>\n",
       "      <td>37.782471</td>\n",
       "      <td>-122.432870</td>\n",
       "      <td>4c8860e40f3c236a7fadf25c</td>\n",
       "    </tr>\n",
       "    <tr>\n",
       "      <th>6</th>\n",
       "      <td>Red’s Parking</td>\n",
       "      <td>Baseball Field</td>\n",
       "      <td>NaN</td>\n",
       "      <td>554</td>\n",
       "      <td>37.780627</td>\n",
       "      <td>-122.426194</td>\n",
       "      <td>5a47430749281473fe980852</td>\n",
       "    </tr>\n",
       "  </tbody>\n",
       "</table>\n",
       "</div>"
      ],
      "text/plain": [
       "                                     name      categories           address  \\\n",
       "2                Japantown Parking Garage         Parking               NaN   \n",
       "7           B840 Japan Center Parking Lot            None               NaN   \n",
       "8                         Webster parking         Parking   1489 Webster St   \n",
       "11  Fillmore Center Public Parking Garage         Parking  1345 Fillmore St   \n",
       "6                           Red’s Parking  Baseball Field               NaN   \n",
       "\n",
       "    distance        lat         lng                        id  \n",
       "2         91  37.785253 -122.430154  4de2cfe3fa7651589f08bc2d  \n",
       "7        121  37.784763 -122.430492  5160ccb1e4b0ad59dab36b31  \n",
       "8        249  37.784351 -122.431858  50c600b5e4b0e9bc08e4309f  \n",
       "11       433  37.782471 -122.432870  4c8860e40f3c236a7fadf25c  \n",
       "6        554  37.780627 -122.426194  5a47430749281473fe980852  "
      ]
     },
     "execution_count": 14,
     "metadata": {},
     "output_type": "execute_result"
    }
   ],
   "source": [
    "results = requests.get(url).json()\n",
    "# assign relevant part of JSON to venues\n",
    "venues = results['response']['venues']\n",
    "\n",
    "# tranform venues into a dataframe\n",
    "dataframe = json_normalize(venues)\n",
    "\n",
    "# Define information and filter the dataframe: keep only columns that include venue name, and anything that is associated with location\n",
    "filtered_columns = ['name', 'categories'] + [col for col in dataframe.columns if col.startswith('location.')] + ['id']\n",
    "dataframe_filtered = dataframe.loc[:, filtered_columns]\n",
    "\n",
    "# function that extracts the category of the venue\n",
    "def get_category_type(row):\n",
    "    try:\n",
    "        categories_list = row['categories']\n",
    "    except:\n",
    "        categories_list = row['venue.categories']\n",
    "        \n",
    "    if len(categories_list) == 0:\n",
    "        return None\n",
    "    else:\n",
    "        return categories_list[0]['name']\n",
    "\n",
    "# filter the category for each row\n",
    "dataframe_filtered['categories'] = dataframe_filtered.apply(get_category_type, axis=1)\n",
    "\n",
    "# clean column names by keeping only last term\n",
    "dataframe_filtered.columns = [column.split('.')[-1] for column in dataframe_filtered.columns]\n",
    "\n",
    "\n",
    "dfp=dataframe_filtered[['name','categories','address','distance','lat','lng','id']]\n",
    "dfp=dfp.sort_values(by=['distance'])\n",
    "dfp.head()"
   ]
  },
  {
   "cell_type": "code",
   "execution_count": 15,
   "metadata": {},
   "outputs": [],
   "source": [
    "#create a Map\n",
    "parking_map = folium.Map(location=[latitude, longitude], zoom_start=14) "
   ]
  },
  {
   "cell_type": "code",
   "execution_count": 16,
   "metadata": {},
   "outputs": [
    {
     "data": {
      "text/html": [
       "<div style=\"width:100%;\"><div style=\"position:relative;width:100%;height:0;padding-bottom:60%;\"><iframe src=\"data:text/html;charset=utf-8;base64,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\" style=\"position:absolute;width:100%;height:100%;left:0;top:0;border:none !important;\" allowfullscreen webkitallowfullscreen mozallowfullscreen></iframe></div></div>"
      ],
      "text/plain": [
       "<folium.folium.Map at 0x7f040631cc88>"
      ]
     },
     "metadata": {},
     "output_type": "display_data"
    }
   ],
   "source": [
    "# add a red circle marker to represent the current location\n",
    "folium.features.CircleMarker(\n",
    "    [latitude, longitude],\n",
    "    radius=10,\n",
    "    color='red',\n",
    "    popup='Restaurant location',\n",
    "    fill = True,\n",
    "    fill_color = 'red',\n",
    "    fill_opacity = 0.6\n",
    ").add_to(parking_map)\n",
    "\n",
    "# add the parkinglots as blue circle markers\n",
    "for lat, lng, name in zip(dfp.lat, dfp.lng, dfp.name):\n",
    "    popup=folium.Popup(name,parse_html=True)\n",
    "    folium.features.CircleMarker(\n",
    "        [lat, lng],\n",
    "        radius=5,\n",
    "        color='blue',\n",
    "        popup=popup,\n",
    "        fill = True,\n",
    "        fill_color='blue',\n",
    "        fill_opacity=0.6\n",
    "    ).add_to(parking_map)\n",
    "\n",
    "\n",
    "# display map\n",
    "display(parking_map)"
   ]
  }
 ],
 "metadata": {
  "kernelspec": {
   "display_name": "Python 3",
   "language": "python",
   "name": "python3"
  },
  "language_info": {
   "codemirror_mode": {
    "name": "ipython",
    "version": 3
   },
   "file_extension": ".py",
   "mimetype": "text/x-python",
   "name": "python",
   "nbconvert_exporter": "python",
   "pygments_lexer": "ipython3",
   "version": "3.6.8"
  }
 },
 "nbformat": 4,
 "nbformat_minor": 2
}
